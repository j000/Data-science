{
 "cells": [
  {
   "cell_type": "code",
   "execution_count": null,
   "metadata": {},
   "outputs": [],
   "source": [
    "import pandas as pd\n",
    "import numpy as np\n",
    "import matplotlib.pyplot as plt\n",
    "from sklearn.linear_model import LinearRegression\n",
    "from sklearn.model_selection import train_test_split\n",
    "from sklearn.metrics import mean_squared_error\n",
    "from sklearn.preprocessing import PolynomialFeatures\n",
    "\n",
    "house_df = pd.read_csv('kc_house_data.csv')"
   ]
  },
  {
   "cell_type": "code",
   "execution_count": null,
   "metadata": {},
   "outputs": [],
   "source": [
    "# something is bugged\n",
    "# this can't be together with imports: https://github.com/jupyter/notebook/issues/3385\n",
    "import matplotlib as mpl\n",
    "mpl.rcParams['figure.dpi'] = 300.0 # default: 72.0\n",
    "mpl.rcParams['figure.figsize'] = [8., 4.5] # default: [6., 4.]"
   ]
  },
  {
   "cell_type": "markdown",
   "metadata": {},
   "source": [
    "## Exercise 1\n",
    "a) Create and train simple regression model of sqft_living to price.  \n",
    "b) Evaluate and visualise created model.  \n",
    "c) Create and plot higher order polynomial regression models."
   ]
  },
  {
   "cell_type": "code",
   "execution_count": null,
   "metadata": {},
   "outputs": [],
   "source": [
    "#a)\n",
    "\n",
    "x = house_df.sqft_living.values.reshape(-1,1)[:1000]\n",
    "y = house_df.price.values.reshape(-1)[:1000]\n",
    "\n",
    "model = LinearRegression()\n",
    "\n",
    "#Your code:\n",
    "model.fit(x, y)\n",
    "\n",
    "#Hint: .fit()"
   ]
  },
  {
   "cell_type": "code",
   "execution_count": null,
   "metadata": {},
   "outputs": [],
   "source": [
    "#b)\n",
    "\n",
    "#Your code:\n",
    "\n",
    "y_pred = model.predict(x)\n",
    "\n",
    "plt.scatter(x, y)\n",
    "plt.plot(x, y_pred, color = 'red')\n",
    "plt.show()\n",
    "\n",
    "\n",
    "print(model.score(x, y))\n",
    "#print(model.intercept_)\n",
    "\n",
    "#Hint: model.predict(), model.intercept_,  model.coef_, model.score()"
   ]
  },
  {
   "cell_type": "code",
   "execution_count": null,
   "metadata": {},
   "outputs": [],
   "source": [
    "#c)\n",
    "\n",
    "import operator\n",
    "\n",
    "scores = [[], []]\n",
    "\n",
    "for order in range(1,9):\n",
    "    plt.subplot(4, 2, order)\n",
    "\n",
    "    poly = PolynomialFeatures(order, include_bias = False)\n",
    "    x_order = poly.fit_transform(x)\n",
    "\n",
    "    model = LinearRegression()\n",
    "\n",
    "    model.fit(x_order, y)\n",
    "    y_pred = model.predict(x_order)\n",
    "\n",
    "    x_tmp, y_tmp = zip(*sorted(zip(x, y_pred), key=operator.itemgetter(0)))\n",
    "\n",
    "    scores[0].append(order)\n",
    "    scores[1].append(mean_squared_error(y, y_pred))\n",
    "    \n",
    "    plt.scatter(x, y)\n",
    "    plt.plot(x_tmp, y_tmp, color='red')\n",
    "\n",
    "plt.gcf().set_size_inches(8, 4*3)\n",
    "plt.show()\n",
    "\n",
    "    \n"
   ]
  },
  {
   "cell_type": "code",
   "execution_count": null,
   "metadata": {},
   "outputs": [],
   "source": [
    "#Your code:\n",
    "\n",
    "plt.plot(scores[0], scores[1])\n",
    "plt.show()"
   ]
  },
  {
   "cell_type": "markdown",
   "metadata": {},
   "source": [
    "## Exercise 2\n",
    "In reality, we are not given the full dataset, so we need to create models which are able to handle unknown data.  \n",
    "a) Split your data into training sample and test sample and repeat exercise 1 c). Plot training and test errors for all models. "
   ]
  },
  {
   "cell_type": "code",
   "execution_count": null,
   "metadata": {},
   "outputs": [],
   "source": [
    "#a)\n",
    "\n",
    "scores = [[], [], []]\n",
    "\n",
    "for order in range(1,9):\n",
    "        \n",
    "    poly = PolynomialFeatures(order, include_bias = False)\n",
    "    x_order = poly.fit_transform(x)\n",
    "    \n",
    "    x_train, x_test, y_train, y_test = train_test_split(x_order, y, test_size=0.3, random_state=44)\n",
    "    \n",
    "    model = LinearRegression()\n",
    "    model.fit(x_train, y_train)\n",
    "    y_pred = model.predict(x_test)\n",
    "    y_train_pred = model.predict(x_train)\n",
    "\n",
    "    scores[0].append(order)\n",
    "    scores[1].append(mean_squared_error(y_test, y_pred))\n",
    "    scores[2].append(mean_squared_error(y_train, y_train_pred))\n",
    "    \n",
    "\n",
    "plt.plot(scores[0], scores[1], label='Test error')\n",
    "plt.plot(scores[0], scores[2], label='Train error')\n",
    "plt.legend()\n",
    "plt.show()\n",
    "    \n",
    "    "
   ]
  },
  {
   "cell_type": "markdown",
   "metadata": {},
   "source": [
    "## Exercise 3\n",
    "a) Train model to predict sqft_living for a given house price. Plot predictions.  \n",
    "b) Apply more features and propose better model for predicting house prices. Try to beat proposed one."
   ]
  },
  {
   "cell_type": "code",
   "execution_count": null,
   "metadata": {},
   "outputs": [],
   "source": [
    "#a)\n",
    "\n",
    "x = house_df.price.values.reshape(-1,1)[:1000]\n",
    "y = house_df.sqft_living.values.reshape(-1)[:1000]\n",
    "\n",
    "#Your code:\n",
    "\n",
    "model = LinearRegression()\n",
    "model.fit(x, y)\n",
    "\n",
    "y_pred = model.predict(x)\n",
    "\n",
    "plt.scatter(x, y)\n",
    "plt.plot(x, y_pred, color='red')\n",
    "plt.show()\n"
   ]
  },
  {
   "cell_type": "code",
   "execution_count": null,
   "metadata": {},
   "outputs": [],
   "source": [
    "#b) Let's propose model, which uses living sqft, lot sqft, grade, view and all of their interactions up to third degree\n",
    "\n",
    "X = house_df[['sqft_living', 'sqft_lot', 'grade', 'view']].values.reshape(-1,4)\n",
    "y = house_df.price.values.reshape(-1)\n",
    "\n",
    "poly = PolynomialFeatures(3, include_bias = False)\n",
    "X = poly.fit_transform(X)\n",
    "\n",
    "X_train, X_test, y_train, y_test = train_test_split(X, y, test_size=0.5, random_state=43)\n",
    "    \n",
    "model = LinearRegression() \n",
    "_= model.fit(X_train, y_train) \n",
    "\n",
    "y_pred = model.predict(X_test)\n",
    "print(\"Mean squared error equals: {0}\".format(mean_squared_error(y_pred, y_test)))\n",
    "\n",
    "#Your model:\n",
    "\n",
    "error = mean_squared_error(y_pred, y_test)\n",
    "\n",
    "features = [\n",
    "    'bathrooms',\n",
    "    'sqft_above',\n",
    "    'sqft_living15',\n",
    "    'sqft_lot',\n",
    "    'grade',\n",
    "    'lat',\n",
    "    'long'\n",
    "]\n",
    "x = house_df[features].values.reshape(-1, len(features))\n",
    "y = house_df.price.values.reshape(-1)\n",
    "\n",
    "for order in range(1,4):\n",
    "    poly = PolynomialFeatures(order, include_bias = False)\n",
    "    x_transformed = poly.fit_transform(x)\n",
    "\n",
    "    x_train, x_test, y_train, y_test = train_test_split(\n",
    "        x_transformed,\n",
    "        y,\n",
    "        test_size=0.2, # test_size=0.5,\n",
    "        random_state=43 # random_state=47\n",
    "        # 75% # 75%\n",
    "    )\n",
    "\n",
    "    model = LinearRegression()\n",
    "    model.fit(x_train, y_train)\n",
    "\n",
    "    y_pred = model.predict(x_test)\n",
    "    current_error = mean_squared_error(y_pred, y_test)\n",
    "    print(\"Order: {1}, Mean squared error equals: {0} ({2:.0f}%)\".format(\n",
    "            current_error,\n",
    "            order,\n",
    "            current_error / error * 100\n",
    "        )\n",
    "    )"
   ]
  },
  {
   "cell_type": "code",
   "execution_count": null,
   "metadata": {},
   "outputs": [],
   "source": []
  },
  {
   "cell_type": "code",
   "execution_count": null,
   "metadata": {},
   "outputs": [],
   "source": []
  }
 ],
 "metadata": {
  "anaconda-cloud": {},
  "kernelspec": {
   "display_name": "Python 3",
   "language": "python",
   "name": "python3"
  },
  "language_info": {
   "codemirror_mode": {
    "name": "ipython",
    "version": 3
   },
   "file_extension": ".py",
   "mimetype": "text/x-python",
   "name": "python",
   "nbconvert_exporter": "python",
   "pygments_lexer": "ipython3",
   "version": "3.7.5"
  }
 },
 "nbformat": 4,
 "nbformat_minor": 2
}

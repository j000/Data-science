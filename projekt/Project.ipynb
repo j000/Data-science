{
 "cells": [
  {
   "cell_type": "code",
   "execution_count": null,
   "metadata": {},
   "outputs": [],
   "source": [
    "import pandas as pd\n",
    "import numpy as np\n",
    "import matplotlib.pyplot as plt\n",
    "import matplotlib.cm as cm"
   ]
  },
  {
   "cell_type": "code",
   "execution_count": null,
   "metadata": {},
   "outputs": [],
   "source": [
    "# something is bugged\n",
    "# this can't be together with imports: https://github.com/jupyter/notebook/issues/3385\n",
    "import matplotlib as mpl\n",
    "mpl.rcParams['figure.dpi'] = 300.0 # default: 72.0\n",
    "mpl.rcParams['figure.figsize'] = [8., 4.5] # default: [6., 4.]"
   ]
  },
  {
   "cell_type": "code",
   "execution_count": null,
   "metadata": {},
   "outputs": [],
   "source": [
    "df_tmp = dict()"
   ]
  },
  {
   "cell_type": "markdown",
   "metadata": {},
   "source": [
    "# Project"
   ]
  },
  {
   "cell_type": "markdown",
   "metadata": {},
   "source": [
    "Life expectancy\n",
    "\n",
    "http://gapm.io/ilex"
   ]
  },
  {
   "cell_type": "code",
   "execution_count": null,
   "metadata": {},
   "outputs": [],
   "source": [
    "df_tmp['life_expectancy'] = pd.read_csv('life_expectancy_years.csv', index_col=[0])"
   ]
  },
  {
   "cell_type": "markdown",
   "metadata": {},
   "source": [
    "Population\n",
    "\n",
    "http://gapm.io/dpop"
   ]
  },
  {
   "cell_type": "code",
   "execution_count": null,
   "metadata": {},
   "outputs": [],
   "source": [
    "df_tmp['population'] = pd.read_csv('population_total.csv', index_col=[0])"
   ]
  },
  {
   "cell_type": "markdown",
   "metadata": {},
   "source": [
    "GDP per capita (inflation adjusted)\n",
    "\n",
    "http://gapm.io/dgdppc"
   ]
  },
  {
   "cell_type": "code",
   "execution_count": null,
   "metadata": {},
   "outputs": [],
   "source": [
    "df_tmp['income'] = pd.read_csv('income_per_person_gdppercapita_ppp_inflation_adjusted.csv', index_col=[0])"
   ]
  },
  {
   "cell_type": "markdown",
   "metadata": {},
   "source": [
    "Surface area\n",
    "\n",
    "https://data.worldbank.org/indicator/AG.SRF.TOTL.K2"
   ]
  },
  {
   "cell_type": "code",
   "execution_count": null,
   "metadata": {},
   "outputs": [],
   "source": [
    "df_tmp['area'] = pd.read_csv('surface_area_sq_km.csv', index_col=[0])"
   ]
  },
  {
   "cell_type": "markdown",
   "metadata": {},
   "source": [
    "CO2 emissions (tonnes per person)\n",
    "\n",
    "https://mdgs.un.org/unsd/mdg/Data.aspx"
   ]
  },
  {
   "cell_type": "code",
   "execution_count": null,
   "metadata": {},
   "outputs": [],
   "source": [
    "df_tmp['co2'] = pd.read_csv('co2_emissions_tonnes_per_person.csv', index_col=[0])"
   ]
  },
  {
   "cell_type": "markdown",
   "metadata": {},
   "source": [
    "Access to basic safe water source (percent of population)\n",
    "\n",
    "https://cdiac.ess-dive.lbl.gov/"
   ]
  },
  {
   "cell_type": "code",
   "execution_count": null,
   "metadata": {},
   "outputs": [],
   "source": [
    "df_tmp['h2o'] = pd.read_csv('at_least_basic_water_source_overall_access_percent.csv', index_col=[0])"
   ]
  },
  {
   "cell_type": "markdown",
   "metadata": {},
   "source": [
    "Current health expenditure (percent of GDP)\n",
    "\n",
    "https://data.worldbank.org/indicator/SH.XPD.CHEX.GD.ZS"
   ]
  },
  {
   "cell_type": "code",
   "execution_count": null,
   "metadata": {},
   "outputs": [],
   "source": [
    "df_tmp['exp_health'] = pd.read_csv('sh_xpd_chex_gd_zs.csv', index_col=[0])"
   ]
  },
  {
   "cell_type": "markdown",
   "metadata": {},
   "source": [
    "Infant mortality rate (death between birth and age 1 per 1000 live births)\n",
    "\n",
    "https://data.worldbank.org/indicator/SP.DYN.IMRT.IN"
   ]
  },
  {
   "cell_type": "code",
   "execution_count": null,
   "metadata": {},
   "outputs": [],
   "source": [
    "df_tmp['infant_mortality'] = pd.read_csv('sp_dyn_imrt_in.csv', index_col=[0])"
   ]
  },
  {
   "cell_type": "markdown",
   "metadata": {},
   "source": [
    "Literacy rate, adult total (percent of people ages 15 and above)\n",
    "\n",
    "https://data.worldbank.org/indicator/SE.ADT.LITR.ZS"
   ]
  },
  {
   "cell_type": "code",
   "execution_count": null,
   "metadata": {},
   "outputs": [],
   "source": [
    "df_tmp['literacy'] = pd.read_csv('se_adt_litr_zs.csv', index_col=[0])"
   ]
  },
  {
   "cell_type": "markdown",
   "metadata": {},
   "source": [
    "Polio immunization coverage among 1-year-olds (%)\n",
    "\n",
    "https://apps.who.int/gho/data/node.imr.WHS4_544"
   ]
  },
  {
   "cell_type": "code",
   "execution_count": null,
   "metadata": {},
   "outputs": [],
   "source": [
    "df_tmp['polio'] = pd.read_csv(\n",
    "    'WHS4_544.csv',\n",
    "    header=[1], skiprows=0, skipinitialspace=True, index_col=[0]\n",
    ").iloc[:, ::-1]\n",
    "df_tmp['polio'].rename(columns=lambda x: x.strip(), inplace=True)"
   ]
  },
  {
   "cell_type": "markdown",
   "metadata": {},
   "source": [
    "BCG immunization coverage among 1-year-olds (%)\n",
    "\n",
    "https://apps.who.int/gho/data/node.imr.WHS4_543"
   ]
  },
  {
   "cell_type": "code",
   "execution_count": null,
   "metadata": {},
   "outputs": [],
   "source": [
    "df_tmp['bcg'] = pd.read_csv(\n",
    "    'WHS4_543.csv',\n",
    "    header=[1], skiprows=0, skipinitialspace=True, index_col=[0]\n",
    ").iloc[:, ::-1]\n",
    "df_tmp['bcg'].rename(columns=lambda x: x.strip(), inplace=True)"
   ]
  },
  {
   "cell_type": "markdown",
   "metadata": {},
   "source": [
    "Hepatitis B (HepB3) immunization coverage among 1-year-olds (%)\n",
    "\n",
    "https://apps.who.int/gho/data/node.imr.WHS4_117"
   ]
  },
  {
   "cell_type": "code",
   "execution_count": null,
   "metadata": {},
   "outputs": [],
   "source": [
    "df_tmp['hepB'] = pd.read_csv(\n",
    "    'WHS4_117.csv',\n",
    "    header=[1], skiprows=0, skipinitialspace=True, index_col=[0]\n",
    ").iloc[:, ::-1]\n",
    "df_tmp['hepB'].rename(columns=lambda x: x.strip(), inplace=True)"
   ]
  },
  {
   "cell_type": "markdown",
   "metadata": {},
   "source": []
  },
  {
   "cell_type": "code",
   "execution_count": null,
   "metadata": {},
   "outputs": [],
   "source": [
    "alcohol = pd.read_csv(\n",
    "    'Recorded alcohol per capita consumption.csv',\n",
    "    header=[1], skiprows=[], skipinitialspace=True, index_col=[0,1,2]\n",
    ").iloc[:, ::-1]\n",
    "df_tmp['alcohol'] = alcohol.xs(' All types', level=2).droplevel(level=1).rename(columns=lambda x: x.strip()).drop_duplicates()"
   ]
  },
  {
   "cell_type": "code",
   "execution_count": null,
   "metadata": {},
   "outputs": [],
   "source": [
    "# clean up\n",
    "for x in df_tmp.values():\n",
    "    x.replace('', np.nan, inplace=True)\n",
    "    # interpolate empty data points\n",
    "    x.interpolate(method='linear', inplace=True)\n",
    "    # drop all data\n",
    "    x.drop(x.columns.to_series()[:'1950'], axis=1, inplace=True)\n",
    "    # drop predictions\n",
    "    x.drop(x.columns.to_series()['2019':], axis=1, inplace=True)\n",
    "    # rename countries, because we use different data sets\n",
    "    x.rename(index={\n",
    "        'Czech Republic': 'Czechia',\n",
    "        'United States': 'United States of America',\n",
    "        'Iran (Islamic Republic of)': 'Iran',\n",
    "        'Vietnam': 'Viet Nam',\n",
    "        'Russian Federation': 'Russia',\n",
    "        'Bolivia (Plurinational State of)': 'Bolivia',\n",
    "        'Democratic Republic of the Congo': 'Congo, Dem. Rep.',\n",
    "        'Congo, Rep.': 'Congo',\n",
    "        'Syrian Arab Republic': 'Syria',\n",
    "        'Venezuela (Bolivarian Republic of)': 'Venezuela',\n",
    "        'Slovak Republic': 'Slovakia',\n",
    "        'Democratic People\\'s Republic of Korea': 'North Korea',\n",
    "        'Republic of Korea': 'South Korea',\n",
    "        'Saint Kitts and Nevis': 'St. Kitts and Nevis',\n",
    "        'Micronesia (Federated States of)': 'Micronesia, Fed. Sts.',\n",
    "        'Micronesia': 'Micronesia, Fed. Sts',\n",
    "        'Brunei Darussalam': 'Brunei',\n",
    "        'Cote d\\'Ivoire': 'Côte d\\'Ivoire',\n",
    "        'Saint Lucia': 'St. Lucia',\n",
    "        'Saint Vincent and the Grenadines': 'St. Vincent and the Grenadines',\n",
    "        'Republic of Moldova': 'Moldova',\n",
    "        'Republic of North Macedonia': 'Macedonia, FYR',\n",
    "        'United Kingdom of Great Britain and Northern Ireland': 'United Kingdom',\n",
    "        'Unted Kingdom': 'United Kingdom',\n",
    "        'United Republic of Tanzania': 'Tanzania',\n",
    "        'Swaziland': 'Eswatini',\n",
    "        'Lao People\\'s Democratic Republic': 'Lao',\n",
    "        'Cabo Verde': 'Cape Verde',\n",
    "        'Kyrgyz Republic': 'Kyrgyzstan'\n",
    "    }, inplace=True)\n",
    "\n",
    "# join data into one big table\n",
    "df = pd.concat(df_tmp.values(), axis=1, keys=df_tmp.keys(), sort=False)\n",
    "\n",
    "tmp = [x for x in range(2000, 2019) if len(df.xs(str(x), axis=1, level=1).columns) == len(df_tmp)]\n",
    "print('We have complete set of data for years:')\n",
    "print(tmp)\n",
    "\n",
    "df_max = max(tmp)\n",
    "df_latest = df.xs(str(df_max), axis=1, level=1)\n",
    "print(f'Picking latest: {df_max}')\n",
    "\n",
    "#pop = df.xs('2014', axis=1, level=1)['population']\n",
    "#display(pop.loc[pop.isnull()])\n",
    "#display(pop.filter(regex='Kyr', axis=0))."
   ]
  },
  {
   "cell_type": "code",
   "execution_count": null,
   "metadata": {},
   "outputs": [],
   "source": [
    "df_latest.describe()"
   ]
  },
  {
   "cell_type": "code",
   "execution_count": null,
   "metadata": {},
   "outputs": [],
   "source": [
    "df_latest.loc['Poland']"
   ]
  },
  {
   "cell_type": "code",
   "execution_count": null,
   "metadata": {},
   "outputs": [],
   "source": [
    "%matplotlib notebook\n",
    "\n",
    "fig, ax = plt.subplots()\n",
    "\n",
    "pop = df_latest['population']\n",
    "pop = pop.loc[pop.notnull()]\n",
    "pop = (pop / pop.max()) * 1024\n",
    "\n",
    "sc = ax.scatter(df_latest['exp_health'], df_latest['income'], s=pop, alpha=0.5)\n",
    "\n",
    "ax.set_xlabel(r'Health Expenditure (% of GDP)', fontsize=15)\n",
    "ax.set_ylabel(r'GDP per capita', fontsize=15)\n",
    "ax.set_title('Fun')\n",
    "\n",
    "ax.grid(True)\n",
    "fig.tight_layout()\n",
    "\n",
    "\n",
    "annot = ax.annotate(\"\", xy=(0,0), xytext=(20,20),textcoords=\"offset points\",\n",
    "                    bbox=dict(boxstyle=\"round\", fc=\"w\"),\n",
    "                    arrowprops=dict(arrowstyle=\"->\"))\n",
    "annot.set_visible(False)\n",
    "\n",
    "def update_annot(ind):\n",
    "\n",
    "    pos = sc.get_offsets()[ind[\"ind\"][0]]\n",
    "    annot.xy = pos\n",
    "    text = \"{}, {}\".format(\" \".join(list(map(str,ind[\"ind\"]))), \n",
    "                           \" \".join([df_latest.index[n] for n in ind[\"ind\"]]))\n",
    "    annot.set_text(text)\n",
    "    annot.get_bbox_patch().set_facecolor(cmap(norm(c[ind[\"ind\"][0]])))\n",
    "    annot.get_bbox_patch().set_alpha(0.4)\n",
    "\n",
    "\n",
    "def hover(event):\n",
    "    vis = annot.get_visible()\n",
    "    if event.inaxes == ax:\n",
    "        cont, ind = sc.contains(event)\n",
    "        if cont:\n",
    "            update_annot(ind)\n",
    "            annot.set_visible(True)\n",
    "            fig.canvas.draw_idle()\n",
    "        else:\n",
    "            if vis:\n",
    "                annot.set_visible(False)\n",
    "                fig.canvas.draw_idle()\n",
    "\n",
    "fig.canvas.mpl_connect(\"motion_notify_event\", hover)\n",
    "\n",
    "plt.show()"
   ]
  },
  {
   "cell_type": "code",
   "execution_count": null,
   "metadata": {},
   "outputs": [],
   "source": [
    "%matplotlib notebook\n",
    "import matplotlib.pyplot as plt\n",
    "import numpy as np; np.random.seed(1)\n",
    "\n",
    "x = df_latest['exp_health']\n",
    "y = df_latest['income']\n",
    "names = df_latest.index\n",
    "c = df_latest['population']\n",
    "\n",
    "norm = plt.Normalize(1,4)\n",
    "cmap = plt.cm.RdYlGn\n",
    "\n",
    "fig,ax = plt.subplots()\n",
    "sc = plt.scatter(x,y,c=c, s=100, cmap=cmap, norm=norm)\n",
    "\n",
    "annot = ax.annotate(\"\", xy=(0,0), xytext=(20,20),textcoords=\"offset points\",\n",
    "                    bbox=dict(boxstyle=\"round\", fc=\"w\"),\n",
    "                    arrowprops=dict(arrowstyle=\"->\"))\n",
    "annot.set_visible(False)\n",
    "\n",
    "def update_annot(ind):\n",
    "\n",
    "    pos = sc.get_offsets()[ind[\"ind\"][0]]\n",
    "    annot.xy = pos\n",
    "    text = \"{}, {}\".format(\" \".join(list(map(str,ind[\"ind\"]))), \n",
    "                           \" \".join([names[n] for n in ind[\"ind\"]]))\n",
    "    annot.set_text(text)\n",
    "    annot.get_bbox_patch().set_facecolor(cmap(norm(c[ind[\"ind\"][0]])))\n",
    "    annot.get_bbox_patch().set_alpha(0.4)\n",
    "\n",
    "\n",
    "def hover(event):\n",
    "    vis = annot.get_visible()\n",
    "    if event.inaxes == ax:\n",
    "        cont, ind = sc.contains(event)\n",
    "        if cont:\n",
    "            update_annot(ind)\n",
    "            annot.set_visible(True)\n",
    "            fig.canvas.draw_idle()\n",
    "        else:\n",
    "            if vis:\n",
    "                annot.set_visible(False)\n",
    "                fig.canvas.draw_idle()\n",
    "\n",
    "fig.canvas.mpl_connect(\"motion_notify_event\", hover)\n",
    "\n",
    "plt.show()"
   ]
  },
  {
   "cell_type": "code",
   "execution_count": null,
   "metadata": {},
   "outputs": [],
   "source": []
  }
 ],
 "metadata": {
  "kernelspec": {
   "display_name": "Python 3",
   "language": "python",
   "name": "python3"
  },
  "language_info": {
   "codemirror_mode": {
    "name": "ipython",
    "version": 3
   },
   "file_extension": ".py",
   "mimetype": "text/x-python",
   "name": "python",
   "nbconvert_exporter": "python",
   "pygments_lexer": "ipython3",
   "version": "3.7.6"
  }
 },
 "nbformat": 4,
 "nbformat_minor": 2
}

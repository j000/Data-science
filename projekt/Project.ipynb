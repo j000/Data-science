{
 "cells": [
  {
   "cell_type": "code",
   "execution_count": null,
   "metadata": {},
   "outputs": [],
   "source": [
    "import pandas as pd\n",
    "import numpy as np\n",
    "import matplotlib.pyplot as plt\n",
    "import matplotlib.cm as cm\n",
    "\n",
    "from sklearn.linear_model import LinearRegression\n",
    "from sklearn.model_selection import train_test_split\n",
    "from sklearn.metrics import mean_squared_error\n",
    "\n",
    "from ipywidgets import interact, interactive, interact_manual\n",
    "import ipywidgets as w"
   ]
  },
  {
   "cell_type": "code",
   "execution_count": null,
   "metadata": {},
   "outputs": [],
   "source": [
    "# something is bugged\n",
    "# this can't be together with imports: https://github.com/jupyter/notebook/issues/3385\n",
    "import matplotlib as mpl\n",
    "mpl.rcParams['figure.dpi'] = 300.0 # default: 72.0\n",
    "mpl.rcParams['figure.figsize'] = [8., 4.5] # default: [6., 4.]"
   ]
  },
  {
   "cell_type": "code",
   "execution_count": null,
   "metadata": {},
   "outputs": [],
   "source": [
    "df_tmp = dict()"
   ]
  },
  {
   "cell_type": "markdown",
   "metadata": {},
   "source": [
    "# Project"
   ]
  },
  {
   "cell_type": "markdown",
   "metadata": {},
   "source": [
    "Life expectancy\n",
    "\n",
    "http://gapm.io/ilex"
   ]
  },
  {
   "cell_type": "code",
   "execution_count": null,
   "metadata": {},
   "outputs": [],
   "source": [
    "df_tmp['life_expectancy'] = pd.read_csv('life_expectancy_years.csv', index_col=[0])"
   ]
  },
  {
   "cell_type": "markdown",
   "metadata": {},
   "source": [
    "Population\n",
    "\n",
    "http://gapm.io/dpop"
   ]
  },
  {
   "cell_type": "code",
   "execution_count": null,
   "metadata": {},
   "outputs": [],
   "source": [
    "df_tmp['population'] = pd.read_csv('population_total.csv', index_col=[0])"
   ]
  },
  {
   "cell_type": "markdown",
   "metadata": {},
   "source": [
    "GDP per capita (inflation adjusted)\n",
    "\n",
    "http://gapm.io/dgdppc"
   ]
  },
  {
   "cell_type": "code",
   "execution_count": null,
   "metadata": {},
   "outputs": [],
   "source": [
    "df_tmp['income'] = pd.read_csv('income_per_person_gdppercapita_ppp_inflation_adjusted.csv', index_col=[0])"
   ]
  },
  {
   "cell_type": "markdown",
   "metadata": {},
   "source": [
    "Surface area\n",
    "\n",
    "https://data.worldbank.org/indicator/AG.SRF.TOTL.K2"
   ]
  },
  {
   "cell_type": "code",
   "execution_count": null,
   "metadata": {},
   "outputs": [],
   "source": [
    "df_tmp['area'] = pd.read_csv('surface_area_sq_km.csv', index_col=[0])"
   ]
  },
  {
   "cell_type": "markdown",
   "metadata": {},
   "source": [
    "CO2 emissions (tonnes per person)\n",
    "\n",
    "https://mdgs.un.org/unsd/mdg/Data.aspx"
   ]
  },
  {
   "cell_type": "code",
   "execution_count": null,
   "metadata": {},
   "outputs": [],
   "source": [
    "#df_tmp['co2'] = pd.read_csv('co2_emissions_tonnes_per_person.csv', index_col=[0])"
   ]
  },
  {
   "cell_type": "markdown",
   "metadata": {},
   "source": [
    "Access to basic safe water source (percent of population)\n",
    "\n",
    "https://cdiac.ess-dive.lbl.gov/"
   ]
  },
  {
   "cell_type": "code",
   "execution_count": null,
   "metadata": {},
   "outputs": [],
   "source": [
    "df_tmp['h2o'] = pd.read_csv('at_least_basic_water_source_overall_access_percent.csv', index_col=[0]) / 100"
   ]
  },
  {
   "cell_type": "markdown",
   "metadata": {},
   "source": [
    "Current health expenditure (percent of GDP)\n",
    "\n",
    "https://data.worldbank.org/indicator/SH.XPD.CHEX.GD.ZS"
   ]
  },
  {
   "cell_type": "code",
   "execution_count": null,
   "metadata": {},
   "outputs": [],
   "source": [
    "df_tmp['exp_health'] = pd.read_csv('sh_xpd_chex_gd_zs.csv', index_col=[0]) / 100"
   ]
  },
  {
   "cell_type": "markdown",
   "metadata": {},
   "source": [
    "Infant mortality rate (death between birth and age 1 per 1000 live births)\n",
    "\n",
    "https://data.worldbank.org/indicator/SP.DYN.IMRT.IN"
   ]
  },
  {
   "cell_type": "code",
   "execution_count": null,
   "metadata": {},
   "outputs": [],
   "source": [
    "df_tmp['infant_mortality'] = pd.read_csv('sp_dyn_imrt_in.csv', index_col=[0])"
   ]
  },
  {
   "cell_type": "markdown",
   "metadata": {},
   "source": [
    "Literacy rate, adult total (percent of people ages 15 and above)\n",
    "\n",
    "https://data.worldbank.org/indicator/SE.ADT.LITR.ZS"
   ]
  },
  {
   "cell_type": "code",
   "execution_count": null,
   "metadata": {},
   "outputs": [],
   "source": [
    "df_tmp['literacy'] = pd.read_csv('se_adt_litr_zs.csv', index_col=[0]) / 100"
   ]
  },
  {
   "cell_type": "markdown",
   "metadata": {},
   "source": [
    "Polio immunization coverage among 1-year-olds (%)\n",
    "\n",
    "https://apps.who.int/gho/data/node.imr.WHS4_544"
   ]
  },
  {
   "cell_type": "code",
   "execution_count": null,
   "metadata": {},
   "outputs": [],
   "source": [
    "df_tmp['polio'] = pd.read_csv(\n",
    "    'WHS4_544.csv',\n",
    "    header=[1], skiprows=0, skipinitialspace=True, index_col=[0]\n",
    ").iloc[:, ::-1]\n",
    "df_tmp['polio'].rename(columns=lambda x: x.strip(), inplace=True)"
   ]
  },
  {
   "cell_type": "markdown",
   "metadata": {},
   "source": [
    "BCG immunization coverage among 1-year-olds (%)\n",
    "\n",
    "https://apps.who.int/gho/data/node.imr.WHS4_543"
   ]
  },
  {
   "cell_type": "code",
   "execution_count": null,
   "metadata": {},
   "outputs": [],
   "source": [
    "df_tmp['bcg'] = pd.read_csv(\n",
    "    'WHS4_543.csv',\n",
    "    header=[1], skiprows=0, skipinitialspace=True, index_col=[0]\n",
    ").iloc[:, ::-1]\n",
    "df_tmp['bcg'].rename(columns=lambda x: x.strip(), inplace=True)"
   ]
  },
  {
   "cell_type": "markdown",
   "metadata": {},
   "source": [
    "Hepatitis B (HepB3) immunization coverage among 1-year-olds (%)\n",
    "\n",
    "https://apps.who.int/gho/data/node.imr.WHS4_117"
   ]
  },
  {
   "cell_type": "code",
   "execution_count": null,
   "metadata": {},
   "outputs": [],
   "source": [
    "df_tmp['hepB'] = pd.read_csv(\n",
    "    'WHS4_117.csv',\n",
    "    header=[1], skiprows=0, skipinitialspace=True, index_col=[0]\n",
    ").iloc[:, ::-1]\n",
    "df_tmp['hepB'].rename(columns=lambda x: x.strip(), inplace=True)"
   ]
  },
  {
   "cell_type": "markdown",
   "metadata": {},
   "source": [
    "Alcohol consumption per capita in litres of pure alcohol"
   ]
  },
  {
   "cell_type": "code",
   "execution_count": null,
   "metadata": {},
   "outputs": [],
   "source": [
    "#alcohol = pd.read_csv(\n",
    "#    'Recorded alcohol per capita consumption.csv',\n",
    "#    header=[1], skiprows=[], skipinitialspace=True, index_col=[0,1,2]\n",
    "#).iloc[:, ::-1]\n",
    "#df_tmp['alcohol'] = alcohol.xs(' All types', level=2).droplevel(level=1).rename(columns=lambda x: x.strip()).drop_duplicates()"
   ]
  },
  {
   "cell_type": "code",
   "execution_count": null,
   "metadata": {},
   "outputs": [],
   "source": [
    "# clean up\n",
    "for x in df_tmp.values():\n",
    "    x.replace('', np.nan, inplace=True)\n",
    "    # drop all data\n",
    "    x.drop(x.columns.to_series()[:'1950'], axis=1, inplace=True)\n",
    "    # drop predictions\n",
    "    x.drop(x.columns.to_series()['2019':], axis=1, inplace=True)\n",
    "    # rename countries, because we use different data sets\n",
    "    x.rename(index={\n",
    "        'Czech Republic': 'Czechia',\n",
    "        'United States': 'United States of America',\n",
    "        'Iran (Islamic Republic of)': 'Iran',\n",
    "        'Vietnam': 'Viet Nam',\n",
    "        'Russian Federation': 'Russia',\n",
    "        'Bolivia (Plurinational State of)': 'Bolivia',\n",
    "        'Democratic Republic of the Congo': 'Congo, Dem. Rep.',\n",
    "        'Congo, Rep.': 'Congo',\n",
    "        'Syrian Arab Republic': 'Syria',\n",
    "        'Venezuela (Bolivarian Republic of)': 'Venezuela',\n",
    "        'Slovak Republic': 'Slovakia',\n",
    "        'Democratic People\\'s Republic of Korea': 'North Korea',\n",
    "        'Republic of Korea': 'South Korea',\n",
    "        'Saint Kitts and Nevis': 'St. Kitts and Nevis',\n",
    "        'Micronesia (Federated States of)': 'Micronesia, Fed. Sts.',\n",
    "        'Micronesia': 'Micronesia, Fed. Sts',\n",
    "        'Brunei Darussalam': 'Brunei',\n",
    "        'Cote d\\'Ivoire': 'Côte d\\'Ivoire',\n",
    "        'Saint Lucia': 'St. Lucia',\n",
    "        'Saint Vincent and the Grenadines': 'St. Vincent and the Grenadines',\n",
    "        'Republic of Moldova': 'Moldova',\n",
    "        'Republic of North Macedonia': 'Macedonia, FYR',\n",
    "        'United Kingdom of Great Britain and Northern Ireland': 'United Kingdom',\n",
    "        'Unted Kingdom': 'United Kingdom',\n",
    "        'United Republic of Tanzania': 'Tanzania',\n",
    "        'Swaziland': 'Eswatini',\n",
    "        'Lao People\\'s Democratic Republic': 'Lao',\n",
    "        'Cabo Verde': 'Cape Verde',\n",
    "        'Kyrgyz Republic': 'Kyrgyzstan'\n",
    "    }, inplace=True)\n",
    "\n",
    "# join data into one big table\n",
    "df = pd.concat(df_tmp.values(), axis=1, keys=df_tmp.keys(), sort=False)\n",
    "\n",
    "# interpolate missing points between other values\n",
    "df.interpolate(method='linear', limit_area='inside', inplace=True)\n",
    "# fill rest with column means\n",
    "df.fillna(df.mean(), inplace=True)\n",
    "\n",
    "years = [x for x in range(2000, 2019) if len(df.xs(str(x), axis=1, level=1).columns) == len(df_tmp)]\n",
    "print('We have complete set of data for years:')\n",
    "print(years)\n",
    "\n",
    "df_max = max(years)\n",
    "df_latest = df.xs(str(df_max), axis=1, level=1)\n",
    "print(f'Picking latest: {df_max}')\n",
    "\n",
    "years = list(map(str, years))"
   ]
  },
  {
   "cell_type": "code",
   "execution_count": null,
   "metadata": {},
   "outputs": [],
   "source": [
    "df_latest.describe()"
   ]
  },
  {
   "cell_type": "code",
   "execution_count": null,
   "metadata": {},
   "outputs": [],
   "source": [
    "df_latest.loc['Poland']"
   ]
  },
  {
   "cell_type": "code",
   "execution_count": null,
   "metadata": {},
   "outputs": [],
   "source": [
    "%matplotlib notebook\n",
    "\n",
    "fig, ax = plt.subplots()\n",
    "\n",
    "tmp = df_latest.loc[df_latest['population'].notnull()]\n",
    "\n",
    "pop = tmp['population']\n",
    "pop = 1024 * (pop  - pop.min()) / (pop.max() - pop.min())\n",
    "\n",
    "sc = ax.scatter(tmp['life_expectancy'], tmp['income'], s=pop, alpha=0.5)\n",
    "\n",
    "ax.set_xlabel(r'Health Expenditure (% of GDP)', fontsize=15)\n",
    "ax.set_ylabel(r'Life Expectancy', fontsize=15)\n",
    "\n",
    "ax.grid(True)\n",
    "fig.tight_layout()\n",
    "\n",
    "annot = ax.annotate(\"\", xy=(0,0), xytext=(0,20),textcoords=\"offset points\",\n",
    "                    bbox=dict(boxstyle=\"round\", fc=\"w\"),\n",
    "                    arrowprops=dict(arrowstyle=\"->\"))\n",
    "annot.set_visible(False)\n",
    "\n",
    "def update_annot(ind):\n",
    "    pos = sc.get_offsets()[ind[\"ind\"][0]]\n",
    "    annot.xy = pos\n",
    "    text = \", \".join([tmp.index[n] for n in ind[\"ind\"]])\n",
    "    annot.set_text(text)\n",
    "    #annot.get_bbox_patch().set_facecolor(cmap(norm(c[ind[\"ind\"][0]])))\n",
    "    annot.get_bbox_patch().set_alpha(0.4)\n",
    "\n",
    "def hover(event):\n",
    "    vis = annot.get_visible()\n",
    "    if event.inaxes == ax:\n",
    "        cont, ind = sc.contains(event)\n",
    "        if cont:\n",
    "            update_annot(ind)\n",
    "            annot.set_visible(True)\n",
    "            fig.canvas.draw_idle()\n",
    "        else:\n",
    "            if vis:\n",
    "                annot.set_visible(False)\n",
    "                fig.canvas.draw_idle()\n",
    "\n",
    "fig.canvas.mpl_connect(\"motion_notify_event\", hover)\n",
    "\n",
    "plt.show()"
   ]
  },
  {
   "cell_type": "code",
   "execution_count": null,
   "metadata": {},
   "outputs": [],
   "source": [
    "%matplotlib inline"
   ]
  },
  {
   "cell_type": "code",
   "execution_count": null,
   "metadata": {},
   "outputs": [],
   "source": [
    "fig, ax = plt.subplots()\n",
    "\n",
    "corr = df_latest.corr()['life_expectancy']\n",
    "corr.plot.bar()\n",
    "\n",
    "plt.tight_layout()\n",
    "plt.show()"
   ]
  },
  {
   "cell_type": "code",
   "execution_count": null,
   "metadata": {},
   "outputs": [],
   "source": [
    "#tmp = df.loc[:, ('population', years)].droplevel(level=0, axis=1)\n",
    "#display(tmp)\n",
    "#display(df.loc[df.loc[:, ('life_expectancy', years)].idxmin(), ('life_expectancy', years)])"
   ]
  },
  {
   "cell_type": "code",
   "execution_count": null,
   "metadata": {},
   "outputs": [],
   "source": [
    "inputs = ['h2o', 'income', 'exp_health', 'literacy', 'polio', 'bcg', 'hepB']\n",
    "\n",
    "x = df_latest[inputs].values\n",
    "y = df_latest['life_expectancy'].values\n",
    "\n",
    "#x = np.concatenate([df.loc[:, (inputs, i)].values for i in years])\n",
    "#y = np.concatenate([df.loc[:, ('life_expectancy', i)].values for i in years])\n",
    "\n",
    "x_train, x_test, y_train, y_test = train_test_split(x, y, test_size=0.2)\n",
    "\n",
    "model = LinearRegression()\n",
    "model.fit(x_train, y_train)\n",
    "\n",
    "y_pred = model.predict(x_test)\n",
    "print(\"Mean squared error equals: {0}\".format(mean_squared_error(y_pred, y_test)))"
   ]
  },
  {
   "cell_type": "code",
   "execution_count": null,
   "metadata": {},
   "outputs": [],
   "source": [
    "h2o=w.FloatSlider(\n",
    "    min=0.0, max=1.0, step=0.01,\n",
    "    continuous_update=False,\n",
    "    value=df_latest['h2o'].mean(),\n",
    "    description='Access to fresh water'\n",
    ")\n",
    "income=w.IntSlider(\n",
    "    min=0, max=df_latest['income'].max() * 1.5,\n",
    "    continuous_update=False,\n",
    "    value=df_latest['income'].mean(),\n",
    "    description='GDP'\n",
    ")\n",
    "exp_health=w.FloatSlider(\n",
    "    min=0, max=1.0, step=0.01,\n",
    "    continuous_update=False,\n",
    "    value=df_latest['exp_health'].mean(),\n",
    "    description='Health expenditure (% GDP)'\n",
    ")\n",
    "literacy=w.FloatSlider(\n",
    "    min=0.0, max=1.0, step=0.01,\n",
    "    continuous_update=False,\n",
    "    value=df_latest['literacy'].mean(),\n",
    "    description='Literacy'\n",
    ")\n",
    "polio=w.FloatSlider(\n",
    "    min=0.0, max=1.0, step=0.1,\n",
    "    continuous_update=False,\n",
    "    value=df_latest['polio'].mean(),\n",
    "    description='Polio immunization'\n",
    ")\n",
    "bcg=w.FloatSlider(\n",
    "    min=0.0, max=1.0, step=0.1,\n",
    "    continuous_update=False,\n",
    "    value=df_latest['bcg'].mean(),\n",
    "    description='BCG immunization'\n",
    ")\n",
    "hepB=w.FloatSlider(\n",
    "    min=0.0, max=1.0, step=0.1,\n",
    "    continuous_update=False,\n",
    "    value=df_latest['hepB'].mean(),\n",
    "    description='HepB immunization'\n",
    ")\n",
    "country=w.Dropdown(\n",
    "    options=df_latest.index,\n",
    "    continuous_update=False,\n",
    "    value='Poland'\n",
    ")\n",
    "year=w.IntSlider(\n",
    "    min=min(years), max=max(years),\n",
    "    continuous_update=False,\n",
    "    value=max(years)\n",
    ")\n",
    "\n",
    "@interact(country=country, year=year)\n",
    "def country_selector(country, year):\n",
    "    #year = str(year)\n",
    "    data = df.loc[country].xs(str(year), level=1)\n",
    "    h2o.value = data['h2o']\n",
    "    income.value = data['income']\n",
    "    exp_health.value = data['exp_health']\n",
    "    literacy.value = data['literacy']\n",
    "    polio.value = data['polio']\n",
    "    bcg.value = data['bcg']\n",
    "    hepB.value = data['hepB']\n",
    "\n",
    "@interact(\n",
    "    h2o=h2o,\n",
    "    income=income,\n",
    "    exp_health=exp_health,\n",
    "    literacy=literacy,\n",
    "    polio=polio,\n",
    "    bcg=bcg,\n",
    "    hepB=hepB\n",
    ")\n",
    "def predict(**kwargs):\n",
    "    tmp = np.array([[*kwargs.values()]])\n",
    "    tmp = np.array([[kwargs[x] for x in inputs]])\n",
    "    prediction = model.predict(tmp)[0]\n",
    "    display(\"%.2f\" % prediction)"
   ]
  }
 ],
 "metadata": {
  "kernelspec": {
   "display_name": "Python 3",
   "language": "python",
   "name": "python3"
  },
  "language_info": {
   "codemirror_mode": {
    "name": "ipython",
    "version": 3
   },
   "file_extension": ".py",
   "mimetype": "text/x-python",
   "name": "python",
   "nbconvert_exporter": "python",
   "pygments_lexer": "ipython3",
   "version": "3.7.6"
  }
 },
 "nbformat": 4,
 "nbformat_minor": 2
}

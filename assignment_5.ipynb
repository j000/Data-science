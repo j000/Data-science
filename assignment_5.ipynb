{
 "cells": [
  {
   "cell_type": "markdown",
   "metadata": {},
   "source": [
    "When exploring a large set of documents -- such as Wikipedia, news articles, StackOverflow, etc. -- it can be useful to get a list of related material. To find relevant documents you typically\n",
    "* Decide on a notion of similarity\n",
    "* Find the documents that are most similar \n",
    "\n",
    "In the assignment you will\n",
    "* Gain intuition for different notions of similarity and practice finding similar documents. \n",
    "* Explore the tradeoffs with representing documents using raw word counts and TF-IDF\n",
    "* Explore the behavior of different distance metrics by looking at the Wikipedia pages most similar to President Obama’s page."
   ]
  },
  {
   "cell_type": "code",
   "execution_count": null,
   "metadata": {
    "jupyter": {
     "outputs_hidden": false
    }
   },
   "outputs": [],
   "source": [
    "import matplotlib.pyplot as plt\n",
    "import numpy as np\n",
    "import pandas as pd\n",
    "%matplotlib inline"
   ]
  },
  {
   "cell_type": "markdown",
   "metadata": {},
   "source": [
    "## Load Wikipedia dataset"
   ]
  },
  {
   "cell_type": "markdown",
   "metadata": {},
   "source": [
    "We will be using the dataset of abridged Wikipedia pages. Each element of the dataset consists of a link to the wikipedia article, the name of the person, and the text of the article (in lowercase).  "
   ]
  },
  {
   "cell_type": "code",
   "execution_count": null,
   "metadata": {
    "jupyter": {
     "outputs_hidden": false
    }
   },
   "outputs": [],
   "source": [
    "wiki = pd.read_csv('people_wiki.csv'\n",
    "#    , index_col = 'name'\n",
    ")\n",
    "wiki.head()"
   ]
  },
  {
   "cell_type": "markdown",
   "metadata": {},
   "source": [
    "If you want to check whether the text on the webpage agrees with the one here, you can display it with the following code:"
   ]
  },
  {
   "cell_type": "code",
   "execution_count": null,
   "metadata": {},
   "outputs": [],
   "source": [
    "# from IPython.display import HTML\n",
    "# print(wiki['text'][0])\n",
    "# HTML(url=wiki['URI'][0])"
   ]
  },
  {
   "cell_type": "markdown",
   "metadata": {},
   "source": [
    "## Ex. 1: Extract word count vectors"
   ]
  },
  {
   "cell_type": "markdown",
   "metadata": {},
   "source": [
    "As we have seen in Assignment 4, we can extract word count vectors using `CountVectorizer` function.\n",
    "- make sure you include words of unit length by using the parameter: `token_pattern=r\"(?u)\\b\\w+\\b\"`\n",
    "- do not use any stopwords\n",
    "- take 10000 most frequent words in the corpus\n",
    "- explicitly take all the words independent of in how many documents they occur\n",
    "- obtain the matrix of word counts"
   ]
  },
  {
   "cell_type": "code",
   "execution_count": null,
   "metadata": {},
   "outputs": [],
   "source": [
    "from sklearn.feature_extraction.text import CountVectorizer\n",
    "\n",
    "vectorizer = CountVectorizer(\n",
    "    analyzer = 'word',\n",
    "    token_pattern = r\"(?u)\\b\\w+\\b\",\n",
    "    max_features = 10_000,\n",
    "    lowercase = False # already converted\n",
    ")\n",
    "\n",
    "WCmatrix = vectorizer.fit_transform(wiki['text'])"
   ]
  },
  {
   "cell_type": "markdown",
   "metadata": {},
   "source": [
    "## Ex. 2: Find nearest neighbors"
   ]
  },
  {
   "cell_type": "markdown",
   "metadata": {},
   "source": [
    "**a)** Start by finding the nearest neighbors of the Barack Obama page using the above word count matrix to represent the articles and **Euclidean** distance to measure distance.\n",
    "Save the distances in `wiki['BO-eucl']` and look at the top 10 nearest neighbors."
   ]
  },
  {
   "cell_type": "code",
   "execution_count": null,
   "metadata": {},
   "outputs": [],
   "source": [
    "# One can use the following:\n",
    "    # from sklearn.neighbors import NearestNeighbors\n",
    "    # nbrs = NearestNeighbors(n_neighbors=3, algorithm='brute',metric='euclidean').fit(X.toarray())\n",
    "    # distances, indices = nbrs.kneighbors(X.toarray())\n",
    "# but here let's use:\n",
    "from sklearn.metrics import pairwise_distances\n",
    "\n",
    "#bo_vector = WCmatrix[wiki.index.get_loc('Barack Obama')]\n",
    "bo_vector = WCmatrix[wiki.loc[wiki['name'] == 'Barack Obama'].index]\n",
    "\n",
    "wiki['BO-eucl'] = pairwise_distances(\n",
    "    WCmatrix\n",
    "    , bo_vector\n",
    "    , metric = 'euclidean'\n",
    ")"
   ]
  },
  {
   "cell_type": "code",
   "execution_count": null,
   "metadata": {},
   "outputs": [],
   "source": [
    "wiki.sort_values(by=['BO-eucl']).head(10)"
   ]
  },
  {
   "cell_type": "markdown",
   "metadata": {},
   "source": [
    "**b)** Measure the pairwise distance between the Wikipedia pages of Barack Obama, George W. Bush, and Joe Biden. Which of the three pairs has the smallest distance?"
   ]
  },
  {
   "cell_type": "code",
   "execution_count": null,
   "metadata": {},
   "outputs": [],
   "source": [
    "bo = WCmatrix[wiki.loc[wiki['name'] == 'Barack Obama'].index]\n",
    "jb = WCmatrix[wiki.loc[wiki['name'] == 'Joe Biden'].index]\n",
    "gwb = WCmatrix[wiki.loc[wiki['name'] == 'George W. Bush'].index]\n",
    "\n",
    "print(pairwise_distances(gwb, jb)[0][0])\n",
    "print(pairwise_distances(bo, jb)[0][0])\n",
    "print(pairwise_distances(bo, gwb)[0][0])"
   ]
  },
  {
   "cell_type": "markdown",
   "metadata": {},
   "source": [
    "All of the 10 people from **a)** are politicians, but about half of them have rather tenuous connections with Obama, other than the fact that they are politicians, e.g.,\n",
    "\n",
    "* Francisco Barrio is a Mexican politician, and a former governor of Chihuahua.\n",
    "* Walter Mondale and Don Bonker are Democrats who made their career in late 1970s.\n",
    "\n",
    "Nearest neighbors with raw word counts got some things right, showing all politicians in the query result, but missed finer and important details."
   ]
  },
  {
   "cell_type": "markdown",
   "metadata": {},
   "source": [
    "**c)** Let's find out why Francisco Barrio was considered a close neighbor of Obama.\n",
    "To do this, look at the most frequently used words in each of Barack Obama and Francisco Barrio's pages."
   ]
  },
  {
   "cell_type": "code",
   "execution_count": null,
   "metadata": {},
   "outputs": [],
   "source": [
    "def top_words(name):\n",
    "    \"\"\"\n",
    "    Get a table of the most frequent words in the given person's wikipedia page.\n",
    "    \"\"\"\n",
    "    word = pd.Series(\n",
    "        vectorizer.get_feature_names()\n",
    "    )\n",
    "    count = pd.Series(\n",
    "        WCmatrix[wiki.loc[wiki['name'] == name].index].toarray()[0]\n",
    "    )\n",
    "    \n",
    "    df = pd.DataFrame({\n",
    "        'word': word,\n",
    "        'count': count\n",
    "    }).set_index('word')\n",
    "    \n",
    "    df = df.loc[df['count'] > 0]\n",
    "    \n",
    "    return df.sort_values(by='count', ascending=False)"
   ]
  },
  {
   "cell_type": "code",
   "execution_count": null,
   "metadata": {
    "jupyter": {
     "outputs_hidden": false
    }
   },
   "outputs": [],
   "source": [
    "obama_words = top_words('Barack Obama')\n",
    "obama_words[:20]"
   ]
  },
  {
   "cell_type": "code",
   "execution_count": null,
   "metadata": {},
   "outputs": [],
   "source": [
    "barrio_words = top_words('Francisco Barrio')\n",
    "barrio_words[:20]"
   ]
  },
  {
   "cell_type": "markdown",
   "metadata": {},
   "source": [
    "**d)** Extract the list of most frequent **common** words that appear in both Obama's and Barrio's documents and display the five words that appear most often in Barrio's article.\n",
    "\n",
    "Use a dataframe operation known as **join**. The **join** operation is very useful when it comes to playing around with data: it lets you combine the content of two tables using a shared column (in this case, the index column of words). See [the documentation](https://pandas.pydata.org/pandas-docs/stable/reference/api/pandas.DataFrame.join.html) for more details."
   ]
  },
  {
   "cell_type": "code",
   "execution_count": null,
   "metadata": {
    "jupyter": {
     "outputs_hidden": false
    }
   },
   "outputs": [],
   "source": [
    "# Modify the code to avoid error.\n",
    "\n",
    "common_words = obama_words.join(barrio_words, how='inner', lsuffix='_obama', rsuffix='_barrio')\n",
    "common_words.sort_values(by='count_barrio', ascending=False).head(15)"
   ]
  },
  {
   "cell_type": "markdown",
   "metadata": {},
   "source": [
    "Collect all words that appear both in Barack Obama and George W. Bush pages.  Out of those words, find the 10 words that show up most often in Obama's page. "
   ]
  },
  {
   "cell_type": "code",
   "execution_count": null,
   "metadata": {},
   "outputs": [],
   "source": [
    "bush_words = top_words('George W. Bush')\n",
    "# Modify the code to avoid error.\n",
    "obama_words.join(bush_words, how='inner', lsuffix='_obama', rsuffix='_bush').head(10)"
   ]
  },
  {
   "cell_type": "markdown",
   "metadata": {},
   "source": [
    "**Note.** Even though common words are swamping out important subtle differences, commonalities in rarer political words still matter on the margin. This is why politicians are being listed in the query result instead of musicians, for example. In the next subsection, we will introduce a different metric that will place greater emphasis on those rarer words."
   ]
  },
  {
   "cell_type": "markdown",
   "metadata": {},
   "source": [
    "**e)** Among the words that appear in both Barack Obama and Francisco Barrio, take the 15 that appear most frequently in Obama. How many of the articles in the Wikipedia dataset contain all of those 15 words? Which are they?"
   ]
  },
  {
   "cell_type": "code",
   "execution_count": null,
   "metadata": {},
   "outputs": [],
   "source": [
    "# It might be helpful to use:\n",
    "# a dictionary with words as keys and indices as values\n",
    "word_to_ind={v: i for i, v in enumerate(vectorizer.get_feature_names())}\n",
    "\n",
    "# Your code goes here\n",
    "# WCmatrix[word, person] != 0\n",
    "word_indexes = [word_to_ind[i] for i in common_words.sort_values(by='count_obama', ascending=False)[:15].index]\n",
    "word_indexes.sort()\n",
    "\n",
    "def check_word(matrix, person, word_indexes):\n",
    "    for i in word_indexes:\n",
    "        if matrix[person, i] < 1:\n",
    "            return False\n",
    "    return True\n",
    "\n",
    "articles = []\n",
    "for person in range(wiki.shape[0]):\n",
    "    word_count = sum([1 for idx in word_indexes if WCmatrix[person, idx] > 0])\n",
    "    if word_count >= 15:\n",
    "        articles += [person]\n",
    "        print(person, wiki.iloc[person]['name'])\n",
    "\n",
    "display(len(articles))\n",
    "\n",
    "#articles.sum() # 30"
   ]
  },
  {
   "cell_type": "code",
   "execution_count": null,
   "metadata": {},
   "outputs": [],
   "source": [
    "wiki.iloc[articles]['name']"
   ]
  },
  {
   "cell_type": "markdown",
   "metadata": {},
   "source": [
    "## Ex. 3: TF-IDF to the rescue"
   ]
  },
  {
   "cell_type": "markdown",
   "metadata": {},
   "source": [
    "Much of the perceived commonalities between Obama and Barrio were due to occurrences of extremely frequent words, such as \"the\", \"and\", and \"his\". So nearest neighbors is recommending plausible results sometimes for the wrong reasons.\n",
    "\n",
    "To retrieve articles that are more relevant, we should focus more on rare words that don't happen in every article. **TF-IDF** (term frequency–inverse document frequency) is a feature representation that penalizes words that are too common."
   ]
  },
  {
   "cell_type": "markdown",
   "metadata": {},
   "source": [
    "**a)** Repeat the search for the 10 nearest neighbors of Barack Obama with Euclidean distance of TF-IDF. This time do not limit to only 10000 most frequent words, but take all of them."
   ]
  },
  {
   "cell_type": "code",
   "execution_count": null,
   "metadata": {},
   "outputs": [],
   "source": [
    "# We could use:\n",
    "    # from sklearn.feature_extraction.text import TfidfVectorizer\n",
    "# but since we already know how to compute CountVectorizer, let's use:\n",
    "from sklearn.feature_extraction.text import TfidfTransformer\n",
    "\n",
    "vectorizer = CountVectorizer(\n",
    "    analyzer='word',\n",
    "    token_pattern=r\"(?u)\\b\\w+\\b\",\n",
    "    lowercase=False # already converted\n",
    ")\n",
    "WCmatrix = vectorizer.fit_transform(wiki['text'])\n",
    "\n",
    "tfidf = TfidfTransformer(smooth_idf=False, norm=None) # Your code goes here; use smooth_idf=False, norm=None\n",
    "TFIDFmatrix = tfidf.fit_transform(WCmatrix) # Your code goes here"
   ]
  },
  {
   "cell_type": "code",
   "execution_count": null,
   "metadata": {},
   "outputs": [],
   "source": [
    "# now recompute the distances as before but for TF-IDF\n",
    "bo_vector = TFIDFmatrix[wiki.loc[wiki['name'] == 'Barack Obama'].index]\n",
    "\n",
    "wiki['BO-eucl-TF-IDF'] = pairwise_distances(\n",
    "    TFIDFmatrix\n",
    "    , bo_vector\n",
    "    , metric='euclidean'\n",
    ")\n",
    "\n",
    "wiki.sort_values(by=['BO-eucl-TF-IDF']).head(10)"
   ]
  },
  {
   "cell_type": "markdown",
   "metadata": {},
   "source": [
    "Let's determine whether this list makes sense.\n",
    "* With a notable exception of Nathan Cullen, the other 8 are all American politicians who are contemporaries of Barack Obama.\n",
    "* Phil Schiliro, Jesse Lee, Samantha Power, Eric Stern, Eric Holder worked for Obama.\n",
    "\n",
    "Clearly, the results are more plausible with the use of TF-IDF. Let's take a look at the word vector for Obama and Schilirio's pages. Notice that TF-IDF representation assigns a weight to each word. This weight captures relative importance of that word in the document."
   ]
  },
  {
   "cell_type": "markdown",
   "metadata": {},
   "source": [
    "**b)** Sort the words in Obama's article by their TF-IDF weights; do the same for Schiliro's article as well.\n",
    "Using the **join** operation we learned earlier, compute the common words shared by Obama's and Schiliro's articles.\n",
    "Sort the common words by their TF-IDF weights in Obama's document."
   ]
  },
  {
   "cell_type": "code",
   "execution_count": null,
   "metadata": {},
   "outputs": [],
   "source": [
    "def top_words_tf_idf(name):\n",
    "    \"\"\"\n",
    "    Get a table of the largest tf-idf words in the given person's wikipedia page.\n",
    "    \"\"\"\n",
    "    word = pd.Series(\n",
    "        vectorizer.get_feature_names()\n",
    "    )\n",
    "    count = pd.Series(\n",
    "        TFIDFmatrix[wiki.loc[wiki['name'] == name].index].toarray()[0]\n",
    "    )\n",
    "    \n",
    "    df = pd.DataFrame({\n",
    "        'word': word,\n",
    "        'tf-idf': count\n",
    "    }).set_index('word')\n",
    "    \n",
    "    df = df.loc[df['tf-idf'] > 0]\n",
    "    \n",
    "    return df.sort_values(by='tf-idf',ascending=False)"
   ]
  },
  {
   "cell_type": "code",
   "execution_count": null,
   "metadata": {
    "jupyter": {
     "outputs_hidden": false
    }
   },
   "outputs": [],
   "source": [
    "obama_tf_idf = top_words_tf_idf('Barack Obama')\n",
    "schiliro_tf_idf = top_words_tf_idf('Phil Schiliro')\n",
    "\n",
    "common_words = obama_tf_idf.join(\n",
    "    schiliro_tf_idf,\n",
    "    how='inner',\n",
    "    lsuffix='_obama',\n",
    "    rsuffix='_schiliro'\n",
    ")\n",
    "common_words[:15]"
   ]
  },
  {
   "cell_type": "markdown",
   "metadata": {},
   "source": [
    "**c)** Among the words that appear in both Barack Obama and Phil Schiliro, take the 15 that have largest weights in Obama. How many of the articles in the Wikipedia dataset contain all of those 15 words? Which are they?"
   ]
  },
  {
   "cell_type": "code",
   "execution_count": null,
   "metadata": {},
   "outputs": [],
   "source": [
    "# It might be helpful to use:\n",
    "# a dictionary with words as keys and indices as values\n",
    "word_to_ind={v: i for i, v in enumerate(vectorizer.get_feature_names())}\n",
    "\n",
    "# Your code goes here\n",
    "\n",
    "# WCmatrix[word, person] != 0\n",
    "word_indexes = [word_to_ind[i] for i in common_words.sort_values(\n",
    "    by=['tf-idf_obama'],\n",
    "    ascending=False\n",
    ")[:15].index]\n",
    "word_indexes.sort()\n",
    "\n",
    "def check_word(matrix, person, word_indexes):\n",
    "    for i in word_indexes:\n",
    "        if matrix[person, i] < 1:\n",
    "            return False\n",
    "    return True\n",
    "\n",
    "tmp = common_words\n",
    "articles = []\n",
    "for person in range(wiki.shape[0]):\n",
    "    word_count = sum([1 for idx in word_indexes if TFIDFmatrix[person, idx] > 0])\n",
    "    if word_count >= 15:\n",
    "        articles += [person]\n",
    "        print(person, wiki.iloc[person]['name'])\n",
    "\n",
    "display(len(articles))"
   ]
  },
  {
   "cell_type": "code",
   "execution_count": null,
   "metadata": {},
   "outputs": [],
   "source": [
    "wiki.iloc[articles]['name']"
   ]
  },
  {
   "cell_type": "markdown",
   "metadata": {},
   "source": [
    "Notice the huge difference in this calculation using TF-IDF scores instead  of raw word counts. We've eliminated noise arising from extremely common words."
   ]
  },
  {
   "cell_type": "markdown",
   "metadata": {},
   "source": [
    "## Ex. 4: Choosing metrics"
   ]
  },
  {
   "cell_type": "markdown",
   "metadata": {},
   "source": [
    "**a)** Compute the Euclidean distance between TF-IDF features of Obama and Biden."
   ]
  },
  {
   "cell_type": "code",
   "execution_count": null,
   "metadata": {},
   "outputs": [],
   "source": [
    "bo = TFIDFmatrix[wiki.loc[wiki['name'] == 'Barack Obama'].index]\n",
    "jb = TFIDFmatrix[wiki.loc[wiki['name'] == 'Joe Biden'].index]\n",
    "print(pairwise_distances(bo, jb)[0][0])"
   ]
  },
  {
   "cell_type": "markdown",
   "metadata": {},
   "source": [
    "The distance is larger than the distances we found for the 10 nearest neighbors, which we repeat here for readability:"
   ]
  },
  {
   "cell_type": "code",
   "execution_count": null,
   "metadata": {
    "jupyter": {
     "outputs_hidden": false
    }
   },
   "outputs": [],
   "source": [
    "wiki.sort_values(by='BO-eucl-TF-IDF',ascending=True)[['name', 'BO-eucl-TF-IDF']][0:10]"
   ]
  },
  {
   "cell_type": "markdown",
   "metadata": {},
   "source": [
    "But one may wonder, is Biden's article that different from Obama's, more so than, say, Schiliro's? It turns out that, when we compute nearest neighbors using the Euclidean distances, we unwittingly favor short articles over long ones."
   ]
  },
  {
   "cell_type": "markdown",
   "metadata": {},
   "source": [
    "**b)** Let us compute the length of each Wikipedia document, and examine the document lengths for the 100 nearest neighbors to Obama's page. To compute text length use the same splitting rules you used in `vectorizer`."
   ]
  },
  {
   "cell_type": "code",
   "execution_count": null,
   "metadata": {
    "jupyter": {
     "outputs_hidden": false
    }
   },
   "outputs": [],
   "source": [
    "tokenizer = CountVectorizer(\n",
    "    analyzer = 'word',\n",
    "    token_pattern = r\"(?u)\\b\\w+\\b\",\n",
    "    max_features = 10_000,\n",
    "    lowercase = False # already converted\n",
    ").build_tokenizer()\n",
    "\n",
    "def compute_length(row):\n",
    "# Here we could use simply:\n",
    "#     return len(row['text'].split(' '))\n",
    "    return len(tokenizer(row))\n",
    "\n",
    "wiki['length'] = wiki['text'].apply(compute_length)"
   ]
  },
  {
   "cell_type": "code",
   "execution_count": null,
   "metadata": {
    "jupyter": {
     "outputs_hidden": false
    }
   },
   "outputs": [],
   "source": [
    "pd.set_option('display.max_rows', 10)\n",
    "\n",
    "nearest_neighbors_euclidean = wiki.sort_values(by='BO-eucl-TF-IDF',ascending=True)[['name', 'length', 'BO-eucl-TF-IDF']]\n",
    "nearest_neighbors_euclidean[:100]"
   ]
  },
  {
   "cell_type": "code",
   "execution_count": null,
   "metadata": {},
   "outputs": [],
   "source": [
    "nearest_neighbors_euclidean.describe()"
   ]
  },
  {
   "cell_type": "markdown",
   "metadata": {},
   "source": [
    "**c)** To see how these document lengths compare to the lengths of other documents in the corpus, make a histogram of the document lengths of Obama's 100 nearest neighbors and compare to a histogram of document lengths for all documents."
   ]
  },
  {
   "cell_type": "code",
   "execution_count": null,
   "metadata": {
    "jupyter": {
     "outputs_hidden": false
    }
   },
   "outputs": [],
   "source": [
    "plt.gcf().set_size_inches(8, 3)\n",
    "plt.hist(\n",
    "    wiki['length']\n",
    "    , 10\n",
    "    , range=(0, 1000)\n",
    "    , label='Entire Wikipedia'\n",
    "    , density=True\n",
    "    , color='black'\n",
    ")\n",
    "plt.hist(\n",
    "    wiki.sort_values(by='BO-eucl-TF-IDF',ascending=True)['length'][:100]\n",
    "    , 100\n",
    "    , range=(0, 1000)\n",
    "    , label='100 NNs of Obama'\n",
    "    , density=True\n",
    "    , color='red'\n",
    "    , alpha=0.75\n",
    ")\n",
    "plt.axvline(\n",
    "    wiki.loc[wiki['name'] == 'Barack Obama']['length'].values\n",
    "    , label='Length of Barack Obama'\n",
    "    , ls='--'\n",
    "    , color='black'\n",
    ")\n",
    "plt.axvline(\n",
    "    wiki.loc[wiki['name'] == 'Joe Biden']['length'].values\n",
    "    , label='Length of Joe Biden'\n",
    "    , ls='--'\n",
    "    , color='red'\n",
    ")\n",
    "plt.tight_layout()\n",
    "plt.legend()\n",
    "plt.show()"
   ]
  },
  {
   "cell_type": "markdown",
   "metadata": {},
   "source": [
    "Relative to the rest of Wikipedia, nearest neighbors of Obama are overwhemingly short, most of them being shorter than 300 words. The bias towards short articles is not appropriate in this application as there is really no reason to  favor short articles over long articles (they are all Wikipedia articles, after all). Many of the Wikipedia articles are 300 words or more, and both Obama and Biden are over 300 words long.\n",
    "\n",
    "**Note**: For the interest of computation time, the dataset given here contains _excerpts_ of the articles rather than full text. For instance, the actual Wikipedia article about Obama is around 25000 words. Do not be surprised by the low numbers shown in the histogram."
   ]
  },
  {
   "cell_type": "markdown",
   "metadata": {},
   "source": [
    "**Note:** Both word-count features and TF-IDF are proportional to word frequencies. While TF-IDF penalizes very common words, longer articles tend to have longer TF-IDF vectors simply because they have more words in them."
   ]
  },
  {
   "cell_type": "markdown",
   "metadata": {},
   "source": [
    "To remove this bias, we turn to **cosine distances**:\n",
    "$$\n",
    "d(\\mathbf{x},\\mathbf{y}) = 1 - \\frac{\\mathbf{x}^T\\mathbf{y}}{\\|\\mathbf{x}\\| \\|\\mathbf{y}\\|}\n",
    "$$\n",
    "Cosine distances let us compare word distributions of two articles of varying lengths."
   ]
  },
  {
   "cell_type": "markdown",
   "metadata": {},
   "source": [
    "**d)** Train a new nearest neighbor model, this time with cosine distances.  Then repeat the search for Obama's 100 nearest neighbors and make a plot to better visualize the effect of having used cosine distance in place of Euclidean on our TF-IDF vectors."
   ]
  },
  {
   "cell_type": "code",
   "execution_count": null,
   "metadata": {
    "jupyter": {
     "outputs_hidden": false
    }
   },
   "outputs": [],
   "source": [
    "wiki['BO-cos-TF-IDF'] = pairwise_distances(\n",
    "    TFIDFmatrix\n",
    "    , bo_vector\n",
    "    , metric='cosine'\n",
    ")\n",
    "\n",
    "nearest_neighbors_cosine = wiki.sort_values(by=['BO-cos-TF-IDF'])[['name', 'length', 'BO-cos-TF-IDF']][:100]\n",
    "nearest_neighbors_cosine"
   ]
  },
  {
   "cell_type": "markdown",
   "metadata": {},
   "source": [
    "From a glance at the above table, things look better.  For example, we now see Joe Biden as Barack Obama's nearest neighbor!  We also see Hillary Clinton on the list.  This list looks even more plausible as nearest neighbors of Barack Obama."
   ]
  },
  {
   "cell_type": "code",
   "execution_count": null,
   "metadata": {
    "jupyter": {
     "outputs_hidden": false
    }
   },
   "outputs": [],
   "source": [
    "plt.gcf().set_size_inches(8, 3)\n",
    "plt.hist(\n",
    "    wiki['length']\n",
    "    , 10\n",
    "    , range=(0, 1000)\n",
    "    , label='Entire Wikipedia'\n",
    "    , density=True\n",
    "    , color='black'\n",
    ")\n",
    "plt.hist(\n",
    "    wiki.sort_values(by='BO-eucl-TF-IDF',ascending=True)['length'][:100]\n",
    "    , 100\n",
    "    , range=(0, 1000)\n",
    "    , label='100 NNs of Obama (Euclidean)'\n",
    "    , density=True\n",
    "    , color='red'\n",
    "    , alpha=0.75\n",
    ")\n",
    "plt.hist(\n",
    "    wiki.sort_values(by='BO-cos-TF-IDF',ascending=True)['length'][:100]\n",
    "    , 20\n",
    "    , range=(0, 1000)\n",
    "    , label='100 NNs of Obama (cosine)'\n",
    "    , density=True\n",
    "    , color='blue'\n",
    "    , alpha=0.75\n",
    ")\n",
    "plt.axvline(\n",
    "    wiki.loc[wiki['name'] == 'Barack Obama']['length'].values\n",
    "    , label='Length of Barack Obama'\n",
    "    , ls='--'\n",
    "    , color='black'\n",
    ")\n",
    "plt.axvline(\n",
    "    wiki.loc[wiki['name'] == 'Joe Biden']['length'].values\n",
    "    , label='Length of Joe Biden'\n",
    "    , ls='--'\n",
    "    , color='red'\n",
    ")\n",
    "plt.tight_layout()\n",
    "plt.legend()\n",
    "plt.show()"
   ]
  },
  {
   "cell_type": "markdown",
   "metadata": {},
   "source": [
    "Indeed, the 100 nearest neighbors using cosine distance provide a sampling across the range of document lengths, rather than just short articles like Euclidean distance provided."
   ]
  },
  {
   "cell_type": "markdown",
   "metadata": {},
   "source": [
    "**Moral of the story**: In deciding the features and distance measures, check if they produce results that make sense for your particular application."
   ]
  },
  {
   "cell_type": "markdown",
   "metadata": {},
   "source": [
    "## Ex. 5: Problem with cosine distances: tweets vs. long articles"
   ]
  },
  {
   "cell_type": "markdown",
   "metadata": {},
   "source": [
    "Happily ever after? Not so fast. Cosine distances ignore all document lengths, which may be great in certain situations but not in others. For instance, consider the following (admittedly contrived) example."
   ]
  },
  {
   "cell_type": "markdown",
   "metadata": {},
   "source": [
    "```\n",
    "+--------------------------------------------------------+\n",
    "|                                             +--------+ |\n",
    "|  One that shall not be named                | Follow | |\n",
    "|  @username                                  +--------+ |\n",
    "|                                                        |\n",
    "|  Democratic governments control law in response to     |\n",
    "|  popular act.                                          |\n",
    "|                                                        |\n",
    "|  8:05 AM - 16 May 2016                                 |\n",
    "|                                                        |\n",
    "|  Reply   Retweet (1,332)   Like (300)                  |\n",
    "|                                                        |\n",
    "+--------------------------------------------------------+\n",
    "```"
   ]
  },
  {
   "cell_type": "markdown",
   "metadata": {},
   "source": [
    "**a)** Transform the tweet into TF-IDF features, using the fit to the Wikipedia dataset. (That is, let's treat this tweet as an article in our Wikipedia dataset and see what happens.) How similar is this tweet to Barack Obama's Wikipedia article? "
   ]
  },
  {
   "cell_type": "code",
   "execution_count": null,
   "metadata": {},
   "outputs": [],
   "source": [
    "df = pd.DataFrame({'text': [\n",
    "    'democratic governments control law in response to popular act'\n",
    "]})\n",
    "\n",
    "tweet_vectorized = vectorizer.transform(df['text'])\n",
    "tweet = tfidf.transform(tweet_vectorized)\n",
    "\n",
    "word = pd.Series(\n",
    "    vectorizer.get_feature_names()\n",
    ")\n",
    "count = pd.Series(\n",
    "    tweet_vectorized[0].toarray()[0]\n",
    ")\n",
    "tmp = pd.Series(\n",
    "    tweet[0].toarray()[0]\n",
    ")\n",
    "\n",
    "df = pd.DataFrame({\n",
    "    'word': word,\n",
    "    'count': count,\n",
    "    'tf-idf': tmp\n",
    "}).set_index('word')\n",
    "\n",
    "df.loc[df['tf-idf'] > 0]"
   ]
  },
  {
   "cell_type": "markdown",
   "metadata": {},
   "source": [
    "Let's compare this tweet's TF-IDF vectors  to Barack Obama's Wikipedia entry."
   ]
  },
  {
   "cell_type": "code",
   "execution_count": null,
   "metadata": {
    "jupyter": {
     "outputs_hidden": false
    }
   },
   "outputs": [],
   "source": [
    "obama_tf_idf"
   ]
  },
  {
   "cell_type": "markdown",
   "metadata": {},
   "source": [
    "**b)** Now, compute the cosine distance between the Barack Obama article and this tweet:"
   ]
  },
  {
   "cell_type": "code",
   "execution_count": null,
   "metadata": {
    "jupyter": {
     "outputs_hidden": false
    }
   },
   "outputs": [],
   "source": [
    "#from sklearn.metrics.pairwise import cosine_distances # for one pair of samples we can just use this function\n",
    "\n",
    "from scipy.spatial.distance import cosine\n",
    "cosine(\n",
    "    TFIDFmatrix[wiki.loc[wiki['name'] == 'Barack Obama'].index].toarray()[0],\n",
    "    tweet[0].toarray()[0]\n",
    ")"
   ]
  },
  {
   "cell_type": "markdown",
   "metadata": {},
   "source": [
    "Let's compare this distance to the distance between the Barack Obama article and all of its Wikipedia nearest neighbors:"
   ]
  },
  {
   "cell_type": "code",
   "execution_count": null,
   "metadata": {
    "jupyter": {
     "outputs_hidden": false
    }
   },
   "outputs": [],
   "source": [
    "nearest_neighbors_cosine[0:23]"
   ]
  },
  {
   "cell_type": "markdown",
   "metadata": {},
   "source": [
    "With cosine distances, the tweet is \"nearer\" to Barack Obama than most people! If someone is reading the Barack Obama Wikipedia page, would you want to recommend they read this tweet?\n",
    "In practice, it is common to enforce maximum or minimum document lengths. After all, when someone is reading a long article from _The Atlantic_, you wouldn't recommend him/her a tweet."
   ]
  }
 ],
 "metadata": {
  "anaconda-cloud": {},
  "kernelspec": {
   "display_name": "Python 3",
   "language": "python",
   "name": "python3"
  },
  "language_info": {
   "codemirror_mode": {
    "name": "ipython",
    "version": 3
   },
   "file_extension": ".py",
   "mimetype": "text/x-python",
   "name": "python",
   "nbconvert_exporter": "python",
   "pygments_lexer": "ipython3",
   "version": "3.7.5"
  }
 },
 "nbformat": 4,
 "nbformat_minor": 4
}

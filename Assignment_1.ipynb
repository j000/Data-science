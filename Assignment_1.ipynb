{
 "cells": [
  {
   "cell_type": "code",
   "execution_count": null,
   "metadata": {},
   "outputs": [],
   "source": [
    "import pandas as pd\n",
    "import numpy as np\n",
    "import matplotlib.pyplot as plt\n",
    "import matplotlib.cm as cm"
   ]
  },
  {
   "cell_type": "code",
   "execution_count": null,
   "metadata": {},
   "outputs": [],
   "source": [
    "# something is bugged\n",
    "# this can't be together with imports: https://github.com/jupyter/notebook/issues/3385\n",
    "import matplotlib as mpl\n",
    "mpl.rcParams['figure.dpi'] = 300.0 # default: 72.0\n",
    "mpl.rcParams['figure.figsize'] = [8., 4.5] # default: [6., 4.]"
   ]
  },
  {
   "cell_type": "markdown",
   "metadata": {},
   "source": [
    "## Exercise 1\n",
    "a) Load house sales data from file kc_house_data.csv, print first records.  \n",
    "b) Print the variable list. Select categorical and numerical variables.  \n",
    "c) Compute basic statistics of numerical variables. Are all of them meaningful?"
   ]
  },
  {
   "cell_type": "code",
   "execution_count": null,
   "metadata": {},
   "outputs": [],
   "source": [
    "data = pd.read_csv(\"kc_house_data.csv\")\n",
    "data['date'] = pd.to_datetime(data['date'])\n",
    "print(data.head(2).transpose())"
   ]
  },
  {
   "cell_type": "code",
   "execution_count": null,
   "metadata": {},
   "outputs": [],
   "source": [
    "house_categorical_df = data.select_dtypes(include='category')\n",
    "house_numerical_df = data.select_dtypes(include=np.number)"
   ]
  },
  {
   "cell_type": "code",
   "execution_count": null,
   "metadata": {
    "scrolled": true
   },
   "outputs": [],
   "source": [
    "data.describe()"
   ]
  },
  {
   "cell_type": "markdown",
   "metadata": {},
   "source": [
    "## Exercise 2\n",
    "Using scatter plot:  \n",
    "a) Show the relation of square footage and price.  \n",
    "b) Check how price is influenced by apartment's grade. Find other variables correlated with price.  \n",
    "c) Check how good apartments are distributed over the city. First, plot zipcode versus price. Then, use apartments coordinates (longitude and lattitude) in order to show where apartments of good grade are located. "
   ]
  },
  {
   "cell_type": "code",
   "execution_count": null,
   "metadata": {},
   "outputs": [],
   "source": [
    "import matplotlib.pyplot as plt\n",
    "\n",
    "plt.scatter(data['sqft_living'], data['price'], marker='+')\n",
    "plt.xlabel('sqft')\n",
    "plt.ylabel('price')\n",
    "plt.show()"
   ]
  },
  {
   "cell_type": "code",
   "execution_count": null,
   "metadata": {},
   "outputs": [],
   "source": [
    "plt.scatter(data['grade'], data['price'], marker='+')\n",
    "plt.xlabel('grade')\n",
    "plt.ylabel('price')\n",
    "\n",
    "plt.gca().set_xticks(range(1, 14))\n",
    "\n",
    "plt.show()\n",
    "\n",
    "corr = data.corr()['price'].drop(['id', 'price', 'zipcode'])\n",
    "corr.plot.bar()\n",
    "plt.show()"
   ]
  },
  {
   "cell_type": "code",
   "execution_count": null,
   "metadata": {},
   "outputs": [],
   "source": [
    "plt.scatter(data['zipcode'], data['price'], marker='+')\n",
    "plt.xlabel('zipcode')\n",
    "plt.ylabel('price')\n",
    "plt.show()"
   ]
  },
  {
   "cell_type": "code",
   "execution_count": null,
   "metadata": {},
   "outputs": [],
   "source": [
    "filtered = data.loc[(data['zipcode'] == 98075)]\n",
    "\n",
    "plt.scatter(\n",
    "    data['long'],\n",
    "    data['lat'],\n",
    "    c=data['grade'],\n",
    "    cmap='inferno',\n",
    "    alpha=0.75,\n",
    "    marker='.',\n",
    "    s=1**2\n",
    ")\n",
    "\n",
    "\n",
    "plt.colorbar()\n",
    "\n",
    "plt.scatter(\n",
    "    filtered['long'],\n",
    "    filtered['lat'],\n",
    "    c='black',\n",
    "    alpha=0.75,\n",
    "    marker='.',\n",
    "    s=1**2\n",
    ")\n",
    "\n",
    "plt.grid(True, alpha=0.5)\n",
    "axes = plt.gca()\n",
    "axes.set_aspect('equal')\n",
    "old = axes.get_xticks()\n",
    "axes.set_xticks(np.arange(old[0], old[-1], 0.1))\n",
    "plt.xticks(rotation=45)\n",
    "\n",
    "#fig = plt.gcf()\n",
    "#fig.set_size_inches(16, 9)\n",
    "\n",
    "\n",
    "plt.show()"
   ]
  },
  {
   "cell_type": "markdown",
   "metadata": {},
   "source": [
    "## Exercise 3\n",
    "a) Create boxplot of apartment's grade versus it's price. Compare with plot 2b).  \n",
    "b) Create mosaic plot of any two categorical variables."
   ]
  },
  {
   "cell_type": "code",
   "execution_count": null,
   "metadata": {},
   "outputs": [],
   "source": [
    "fig = data.filter(items=['grade', 'price']).boxplot(by='grade')\n",
    "fig.set_ylabel('price')\n",
    "fig.set_xlabel('grade')\n",
    "fig.set_title('')\n",
    "plt.suptitle('') # Getting rid of pandas-generated boxplot title\n",
    "\n",
    "# force all labels\n",
    "plt.gca().set_xticklabels(map(str, range(1, 13)))\n",
    "\n",
    "plt.show()"
   ]
  },
  {
   "cell_type": "code",
   "execution_count": null,
   "metadata": {},
   "outputs": [],
   "source": [
    "#b)\n",
    "from statsmodels.graphics.mosaicplot import mosaic\n",
    "\n",
    "#Your code:\n",
    "data['yr_sold'] = data['date'].dt.year\n",
    "#mosaic(data.sort_values('grade'), index=['yr_sold', 'grade'])\n",
    "#plt.show()\n",
    "\n",
    "mosaic(data.sort_values('grade'), index=['bedrooms', 'grade'])\n",
    "plt.show()"
   ]
  },
  {
   "cell_type": "markdown",
   "metadata": {},
   "source": [
    "## Exercise 4\n",
    "\"I am interested in the house with 3 bedrooms, 2 bathrooms and 2 floors\"  \n",
    "a) Compute the basic statistics of apartments fulfilling above constraints.  \n",
    "b) Distinct accepted apartments on any of previously created plots.  \n",
    "c) Find such apartments with best price to footage ratio.  "
   ]
  },
  {
   "cell_type": "code",
   "execution_count": null,
   "metadata": {},
   "outputs": [],
   "source": [
    "ex4 = data.loc[(data['bedrooms'] == 3) & (data['bathrooms'] == 2) & (data['floors'] == 2)]\n",
    "ex4.head()\n",
    "#ex4.describe()"
   ]
  },
  {
   "cell_type": "code",
   "execution_count": null,
   "metadata": {},
   "outputs": [],
   "source": [
    "plt.scatter(\n",
    "    data['long'],\n",
    "    data['lat'],\n",
    "    c=data['grade'],\n",
    "    cmap='inferno',\n",
    "    alpha=0.75,\n",
    "    marker='.',\n",
    "    s=1**2\n",
    ")\n",
    "\n",
    "plt.colorbar()\n",
    "\n",
    "plt.scatter(\n",
    "    ex4['long'],\n",
    "    ex4['lat'],\n",
    "    c='black',\n",
    "    marker='p',\n",
    "    s=1**2\n",
    ")\n",
    "\n",
    "plt.grid(True, alpha=0.5)\n",
    "axes = plt.gca()\n",
    "axes.set_aspect('equal')\n",
    "old = axes.get_xticks()\n",
    "axes.set_xticks(np.arange(old[0], old[-1], 0.1))\n",
    "plt.xticks(rotation=45)\n",
    "\n",
    "#fig = plt.gcf()\n",
    "#fig.set_size_inches(16, 9)\n",
    "\n",
    "\n",
    "plt.show()"
   ]
  },
  {
   "cell_type": "code",
   "execution_count": null,
   "metadata": {},
   "outputs": [],
   "source": [
    "data['sqft_price_ratio'] = data.price / data.sqft_living\n",
    "\n",
    "# we changed data, need to \"refresh\" our view\n",
    "ex4 = data.loc[\n",
    "    (data['bedrooms'] == 3) &\n",
    "    (data['bathrooms'] == 2) &\n",
    "    (data['floors'] == 2)\n",
    "].sort_values('sqft_price_ratio', ascending=True)\n",
    "\n",
    "#ex4.loc[(ex4.sqft_living / ex4.price).sort_values(ascending=False).index]\n",
    "\n",
    "ex4.head()"
   ]
  },
  {
   "cell_type": "code",
   "execution_count": null,
   "metadata": {},
   "outputs": [],
   "source": [
    "ile_najlepszych = 5\n",
    "\n",
    "plt.scatter(\n",
    "    data['long'],\n",
    "    data['lat'],\n",
    "    c=data['grade'],\n",
    "    cmap='inferno',\n",
    "    alpha=0.75,\n",
    "    marker='.',\n",
    "    s=1**2\n",
    ")\n",
    "\n",
    "plt.colorbar()\n",
    "\n",
    "plt.scatter(\n",
    "    ex4['long'][:ile_najlepszych],\n",
    "    ex4['lat'][:ile_najlepszych],\n",
    "    marker='+',\n",
    "    linewidth=0.8,\n",
    "    c='black',\n",
    "    s=6**2\n",
    ")\n",
    "\n",
    "plt.grid(True, alpha=0.5)\n",
    "axes = plt.gca()\n",
    "axes.set_aspect('equal')\n",
    "old = axes.get_xticks()\n",
    "axes.set_xticks(np.arange(old[0], old[-1], 0.1))\n",
    "plt.xticks(rotation=45)\n",
    "\n",
    "#fig = plt.gcf()\n",
    "#fig.set_size_inches(16, 9)\n",
    "\n",
    "\n",
    "plt.show()"
   ]
  },
  {
   "cell_type": "code",
   "execution_count": null,
   "metadata": {},
   "outputs": [],
   "source": []
  }
 ],
 "metadata": {
  "kernelspec": {
   "display_name": "Python 3",
   "language": "python",
   "name": "python3"
  },
  "language_info": {
   "codemirror_mode": {
    "name": "ipython",
    "version": 3
   },
   "file_extension": ".py",
   "mimetype": "text/x-python",
   "name": "python",
   "nbconvert_exporter": "python",
   "pygments_lexer": "ipython3",
   "version": "3.7.4"
  }
 },
 "nbformat": 4,
 "nbformat_minor": 2
}
